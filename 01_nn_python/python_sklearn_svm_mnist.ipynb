{
 "cells": [
  {
   "cell_type": "markdown",
   "metadata": {
    "deletable": true,
    "editable": true
   },
   "source": [
    "# 使用sklearn的svm包训练MNIST数据"
   ]
  },
  {
   "cell_type": "markdown",
   "metadata": {
    "deletable": true,
    "editable": true
   },
   "source": [
    "## 1.MNIST数据加载"
   ]
  },
  {
   "cell_type": "code",
   "execution_count": 4,
   "metadata": {
    "collapsed": true,
    "deletable": true,
    "editable": true
   },
   "outputs": [],
   "source": [
    "# http://g.sweyla.com/blog/2012/mnist-numpy/\n",
    "import os, struct\n",
    "import numpy as np\n",
    "from sklearn import svm\n",
    "from array import array as pyarray\n",
    "from numpy import append, array, int8, uint8, zeros\n",
    " \n",
    "def load_mnist(dataset=\"training_data\", digits=np.arange(10), path=\".\"):\n",
    "\n",
    "    if dataset == \"training_data\":\n",
    "        fname_image = os.path.join(path, 'train-images-idx3-ubyte')\n",
    "        fname_label = os.path.join(path, 'train-labels-idx1-ubyte')\n",
    "    elif dataset == \"testing_data\":\n",
    "        fname_image = os.path.join(path, 't10k-images-idx3-ubyte')\n",
    "        fname_label = os.path.join(path, 't10k-labels-idx1-ubyte')\n",
    "    else:\n",
    "        raise ValueError(\"dataset must be 'training_data' or 'testing_data'\")\n",
    "    \n",
    "    flbl = open(fname_label, 'rb')\n",
    "    magic_nr, size = struct.unpack(\">II\", flbl.read(8))\n",
    "    lbl = pyarray(\"b\", flbl.read())\n",
    "    flbl.close()\n",
    "\n",
    "    fimg = open(fname_image, 'rb')\n",
    "    magic_nr, size, rows, cols = struct.unpack(\">IIII\", fimg.read(16))\n",
    "    img = pyarray(\"B\", fimg.read())\n",
    "    fimg.close()\n",
    "\n",
    "    ind = [ k for k in range(size) if lbl[k] in digits ]\n",
    "    N = len(ind)\n",
    "\n",
    "    images = zeros((N, rows, cols), dtype=uint8)\n",
    "    labels = zeros((N, 1), dtype=int8)\n",
    "    for i in range(len(ind)):\n",
    "        images[i] = array(img[ ind[i]*rows*cols : (ind[i]+1)*rows*cols ]).reshape((rows, cols))\n",
    "        labels[i] = lbl[ind[i]]\n",
    "\n",
    "    return images, labels\n",
    "\n",
    "def load_samples(dataset=\"training_data\"):\n",
    "    image,label = load_mnist(dataset)\n",
    "    #print(image[0].shape, image.shape)   # (28, 28) (60000, 28, 28)\n",
    "    #print(label[0].shape, label.shape)   # (1,) (60000, 1)\n",
    "    #print(label[0])   # 5\n",
    " \n",
    "    # 把28*28二维数据转为一维数据\n",
    "    X = [np.reshape(x,(28*28)) for x in image]\n",
    "    X = [x/255.0 for x in X]   # 灰度值范围(0-255)，转换为(0-1)\n",
    "    \n",
    "    pair = list(zip(X, label))\n",
    "    return pair"
   ]
  },
  {
   "cell_type": "markdown",
   "metadata": {
    "deletable": true,
    "editable": true
   },
   "source": [
    "## 2.训练"
   ]
  },
  {
   "cell_type": "code",
   "execution_count": 5,
   "metadata": {
    "collapsed": false,
    "deletable": true,
    "editable": true,
    "scrolled": true
   },
   "outputs": [
    {
     "name": "stdout",
     "output_type": "stream",
     "text": [
      "('\\xe5\\x87\\x86\\xe7\\xa1\\xae\\xe7\\x8e\\x87: ', 0)\n"
     ]
    }
   ],
   "source": [
    "if __name__ == '__main__':\n",
    "    train_set = load_samples(dataset='training_data')\n",
    "    test_set = load_samples(dataset='testing_data')\n",
    "\n",
    "    train_X = []\n",
    "    train_Y = []\n",
    "    \n",
    "    for feature in train_set:\n",
    "        train_X.append(feature[0])\n",
    "        train_Y.append(feature[1][0])\n",
    " \n",
    "    clf = svm.SVR()\n",
    "    clf.fit(train_X, train_Y)  # 很耗时(我吃完饭回来，还没完，蛋碎... i5 CPU-8G RAM)\n",
    "    \n",
    "    #with open('minst.module', 'wb') as f:\n",
    "    #pickle.dump(clf, f)\n",
    " \n",
    "    #with open('minst.module', 'rb') as f:\n",
    "    #   clf = pickle.load(f)\n",
    "    test_X = []\n",
    "    test_Y = []\n",
    "    for feature in test_set:\n",
    "        test_X.append(feature[0])\n",
    "        test_Y.append(feature[1][0])\n",
    " \n",
    "    # 准确率\n",
    "    correct = 0\n",
    "    i = 0\n",
    "    for feature in test_X:\n",
    "        predict = clf.predict(np.array(feature).reshape(1, -1))\n",
    "        if round(float(predict)) == test_Y[i]:\n",
    "            correct += 1\n",
    "        i = i + 1\n",
    "    print \"准确率: \", correct*1.0/len(test_X)"
   ]
  },
  {
   "cell_type": "code",
   "execution_count": null,
   "metadata": {
    "collapsed": true,
    "deletable": true,
    "editable": true
   },
   "outputs": [],
   "source": []
  }
 ],
 "metadata": {
  "kernelspec": {
   "display_name": "Python 2",
   "language": "python",
   "name": "python2"
  },
  "language_info": {
   "codemirror_mode": {
    "name": "ipython",
    "version": 2
   },
   "file_extension": ".py",
   "mimetype": "text/x-python",
   "name": "python",
   "nbconvert_exporter": "python",
   "pygments_lexer": "ipython2",
   "version": "2.7.12"
  }
 },
 "nbformat": 4,
 "nbformat_minor": 2
}
