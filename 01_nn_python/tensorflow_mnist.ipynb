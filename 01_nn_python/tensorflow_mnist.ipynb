{
 "cells": [
  {
   "cell_type": "markdown",
   "metadata": {
    "deletable": true,
    "editable": true
   },
   "source": [
    "# 使用Tensorflow训练MNIST数据集"
   ]
  },
  {
   "cell_type": "markdown",
   "metadata": {
    "deletable": true,
    "editable": true
   },
   "source": [
    "## 1.引入依赖包"
   ]
  },
  {
   "cell_type": "code",
   "execution_count": 1,
   "metadata": {
    "collapsed": true,
    "deletable": true,
    "editable": true
   },
   "outputs": [],
   "source": [
    "import numpy as np\n",
    "import tensorflow as tf\n",
    "import matplotlib.pyplot as plt\n",
    "from tensorflow.examples.tutorials.mnist import input_data\n",
    "\n",
    "%matplotlib inline"
   ]
  },
  {
   "cell_type": "markdown",
   "metadata": {
    "deletable": true,
    "editable": true
   },
   "source": [
    "## 2.定义参数"
   ]
  },
  {
   "cell_type": "code",
   "execution_count": 15,
   "metadata": {
    "collapsed": false,
    "deletable": true,
    "editable": true
   },
   "outputs": [
    {
     "name": "stdout",
     "output_type": "stream",
     "text": [
      "Extracting /tmp/train-images-idx3-ubyte.gz\n",
      "Extracting /tmp/train-labels-idx1-ubyte.gz\n",
      "Extracting /tmp/t10k-images-idx3-ubyte.gz\n",
      "Extracting /tmp/t10k-labels-idx1-ubyte.gz\n"
     ]
    }
   ],
   "source": [
    "mnist = input_data.read_data_sets('/tmp/', one_hot=True)\n",
    "\n",
    "# 定义每一层神经元的个数\n",
    "\"\"\"\n",
    "层数的选择：线性数据使用1层，非线性数据使用2册, 超级非线性使用3+册。层数／神经元过多会导致过拟合\n",
    "\"\"\"\n",
    "n_input_layer  = 28*28 # 输入层\n",
    "n_hidden_layer_1 = 30 # hidden layer 1\n",
    "n_hidden_layer_2 = 20 # hidden layer 2\n",
    "n_output_layer = 10 # 输出层\n",
    "\n",
    "W_xh = tf.Variable(tf.random_normal([n_input_layer, n_hidden_layer_1]))\n",
    "b_h1  = tf.Variable(tf.random_normal([n_hidden_layer_1]))\n",
    "\n",
    "W_hh = tf.Variable(tf.random_normal([n_hidden_layer_1, n_hidden_layer_2]))\n",
    "b_h2  = tf.Variable(tf.random_normal([n_hidden_layer_2]))\n",
    "\n",
    "W_ho = tf.Variable(tf.random_normal([n_hidden_layer_2, n_output_layer]))\n",
    "b_o  = tf.Variable(tf.random_normal([n_output_layer]))\n",
    "\n",
    "batch_size = 100\n",
    "\n",
    "# 定义实际输入和输出数据\n",
    "X = tf.placeholder('float', [None, 28*28])\n",
    "Y = tf.placeholder('float', [None,10])"
   ]
  },
  {
   "cell_type": "markdown",
   "metadata": {
    "deletable": true,
    "editable": true
   },
   "source": [
    "## 3.定义神经网络模型"
   ]
  },
  {
   "cell_type": "code",
   "execution_count": 16,
   "metadata": {
    "collapsed": false,
    "deletable": true,
    "editable": true
   },
   "outputs": [],
   "source": [
    "def neural_network(x):\n",
    "    \n",
    "    hidden_layer_1_output = tf.matmul(x, W_xh) + b_h1\n",
    "    hidden_layer_1_activate = tf.nn.sigmoid(hidden_layer_1_output)  # 激活函数\n",
    "    \n",
    "    hidden_layer_2_output = tf.matmul(hidden_layer_1_activate, W_hh) + b_h2\n",
    "    hidden_layer_2_output = tf.nn.sigmoid(hidden_layer_2_output)\n",
    "    \n",
    "    output = tf.matmul(hidden_layer_2_output, W_ho) + b_o\n",
    "    output = tf.nn.softmax(output)\n",
    "    return output"
   ]
  },
  {
   "cell_type": "markdown",
   "metadata": {
    "deletable": true,
    "editable": true
   },
   "source": [
    "## 4.训练"
   ]
  },
  {
   "cell_type": "code",
   "execution_count": 17,
   "metadata": {
    "collapsed": false,
    "deletable": true,
    "editable": true
   },
   "outputs": [
    {
     "name": "stdout",
     "output_type": "stream",
     "text": [
      "准确率： 0.9155\n"
     ]
    }
   ],
   "source": [
    "def train_neural_network(x, y):\n",
    "    \n",
    "    predict       = neural_network(x)\n",
    "    cross_entropy = tf.reduce_mean(- tf.reduce_sum(y*tf.log(predict), axis=1))\n",
    "    train_step    = tf.train.GradientDescentOptimizer(0.1).minimize(cross_entropy) #学习率调整到0.1,加快梯度下降\n",
    "    init          = tf.global_variables_initializer()\n",
    "    \n",
    "    with tf.Session() as sess:\n",
    "        sess.run(init)\n",
    "        epochs = 20000\n",
    "        \n",
    "        for epoch in range(epochs):\n",
    "            batch_x, batch_y = mnist.train.next_batch(batch_size)\n",
    "            sess.run(train_step, feed_dict={x: batch_x, y: batch_y})\n",
    "        \n",
    "        correct = tf.equal(tf.argmax(predict, 1), tf.argmax(y, 1))\n",
    "        accuracy = tf.reduce_mean(tf.cast(correct, 'float'))\n",
    "        print '准确率：', sess.run(accuracy, feed_dict={x: mnist.test.images, y: mnist.test.labels})\n",
    "train_neural_network(X, Y)"
   ]
  },
  {
   "cell_type": "code",
   "execution_count": null,
   "metadata": {
    "collapsed": true,
    "deletable": true,
    "editable": true
   },
   "outputs": [],
   "source": []
  }
 ],
 "metadata": {
  "kernelspec": {
   "display_name": "Python 2",
   "language": "python",
   "name": "python2"
  },
  "language_info": {
   "codemirror_mode": {
    "name": "ipython",
    "version": 2
   },
   "file_extension": ".py",
   "mimetype": "text/x-python",
   "name": "python",
   "nbconvert_exporter": "python",
   "pygments_lexer": "ipython2",
   "version": "2.7.12"
  }
 },
 "nbformat": 4,
 "nbformat_minor": 2
}
