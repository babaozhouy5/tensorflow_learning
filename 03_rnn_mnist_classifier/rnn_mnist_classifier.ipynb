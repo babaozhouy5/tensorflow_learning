{
 "cells": [
  {
   "cell_type": "markdown",
   "metadata": {
    "deletable": true,
    "editable": true
   },
   "source": [
    "# 使用RNN神经网络分类MNIST数据集"
   ]
  },
  {
   "cell_type": "markdown",
   "metadata": {},
   "source": [
    "## 1.RNN网络示意图"
   ]
  },
  {
   "cell_type": "markdown",
   "metadata": {
    "deletable": true,
    "editable": true
   },
   "source": [
    "### 1.1.RNN神经网络示意图"
   ]
  },
  {
   "cell_type": "markdown",
   "metadata": {
    "deletable": true,
    "editable": true
   },
   "source": [
    "![RNN神经网络结构图](./RNN.jpg \"神经网络结构图\")"
   ]
  },
  {
   "cell_type": "markdown",
   "metadata": {
    "deletable": true,
    "editable": true
   },
   "source": [
    "### 1.2.LSTM神经元结构图"
   ]
  },
  {
   "cell_type": "markdown",
   "metadata": {
    "deletable": true,
    "editable": true
   },
   "source": [
    "![LSTM神经元结构图](./LSTM.jpg \"LSTM神经元结构图\")"
   ]
  },
  {
   "cell_type": "markdown",
   "metadata": {
    "deletable": true,
    "editable": true
   },
   "source": [
    "## 1.3.RNN网络按照时间展开"
   ]
  },
  {
   "cell_type": "markdown",
   "metadata": {
    "deletable": true,
    "editable": true
   },
   "source": [
    "![RNN网络按照时间展开](./extend_rnn.jpg \"RNN网络按照时间展开\")"
   ]
  },
  {
   "cell_type": "markdown",
   "metadata": {
    "deletable": true,
    "editable": true
   },
   "source": [
    "## 2.下载MNIST数据集"
   ]
  },
  {
   "cell_type": "code",
   "execution_count": 1,
   "metadata": {
    "collapsed": false,
    "deletable": true,
    "editable": true
   },
   "outputs": [
    {
     "name": "stdout",
     "output_type": "stream",
     "text": [
      "Extracting /tmp/train-images-idx3-ubyte.gz\n",
      "Extracting /tmp/train-labels-idx1-ubyte.gz\n",
      "Extracting /tmp/t10k-images-idx3-ubyte.gz\n",
      "Extracting /tmp/t10k-labels-idx1-ubyte.gz\n"
     ]
    }
   ],
   "source": [
    "# 下载mnist数据集\n",
    "from tensorflow.examples.tutorials.mnist import input_data\n",
    "mnist = input_data.read_data_sets('/tmp/', one_hot=True)"
   ]
  },
  {
   "cell_type": "markdown",
   "metadata": {
    "deletable": true,
    "editable": true
   },
   "source": [
    "## 3.定义RNN神经网络分类MNIST数据集"
   ]
  },
  {
   "cell_type": "markdown",
   "metadata": {
    "deletable": true,
    "editable": true
   },
   "source": [
    "### 3.1.引入依赖包"
   ]
  },
  {
   "cell_type": "code",
   "execution_count": 2,
   "metadata": {
    "collapsed": true,
    "deletable": true,
    "editable": true
   },
   "outputs": [],
   "source": [
    "import numpy as np\n",
    "import tensorflow as tf\n",
    "sess = tf.InteractiveSession()"
   ]
  },
  {
   "cell_type": "markdown",
   "metadata": {
    "deletable": true,
    "editable": true
   },
   "source": [
    "### 3.2.定义模型参数"
   ]
  },
  {
   "cell_type": "code",
   "execution_count": 3,
   "metadata": {
    "collapsed": false,
    "deletable": true,
    "editable": true
   },
   "outputs": [],
   "source": [
    "# Parameters\n",
    "learning_rate = 0.001\n",
    "training_iters = 100000\n",
    "batch_size = 128\n",
    "display_step = 10\n",
    "\n",
    "# Network Parameters\n",
    "n_input = 28 # MNIST data input (img shape: 28*28)\n",
    "n_steps = 28 # timesteps\n",
    "n_hidden = 128 # hidden layer num of features\n",
    "n_classes = 10 # MNIST total classes (0-9 digits)\n",
    "\n",
    "# tf Graph input\n",
    "X = tf.placeholder(\"float\", [None, n_steps, n_input])\n",
    "Y = tf.placeholder(\"float\", [None, n_classes])"
   ]
  },
  {
   "cell_type": "markdown",
   "metadata": {
    "deletable": true,
    "editable": true
   },
   "source": [
    "### 3.3.定义RNN神经网络模型"
   ]
  },
  {
   "cell_type": "code",
   "execution_count": 4,
   "metadata": {
    "collapsed": false,
    "deletable": true,
    "editable": true
   },
   "outputs": [],
   "source": [
    "def RecNeuralNetwork(x):\n",
    "    # we need split our X into sequences\n",
    "    data = tf.transpose(x, [1,0,2])\n",
    "    data = tf.reshape(data, [-1, n_input])\n",
    "    datas = tf.split(data, n_steps, axis=0)\n",
    "\n",
    "    # 1.RNN Layer\n",
    "    lstm_cell = tf.contrib.rnn.BasicLSTMCell(n_hidden)\n",
    "    outputs, states = tf.contrib.rnn.static_rnn(lstm_cell, datas, dtype=tf.float32)\n",
    "    \n",
    "    ### basicly same as above (can see from the source code of static_rnn)###\n",
    "    # from tensorflow.python.ops import variable_scope as vs\n",
    "    # with tf.variable_scope(\"rnn\") as varscope:\n",
    "    #     if varscope.caching_device is None:\n",
    "    #         varscope.set_caching_device(lambda op: op.device)\n",
    "    #     lstm_cell = tf.contrib.rnn.BasicLSTMCell(n_hidden)\n",
    "    #     state = lstm_cell.zero_state(batch_size, tf.float32) # the initial state of the lstm memeory state\n",
    "    #     outputs = [];states = []\n",
    "    #     for time, data in enumerate(datas):\n",
    "    #         if time > 0: varscope.reuse_variables()\n",
    "    #         (output, state) = lstm_cell(data, state)\n",
    "    #         outputs.append(output)\n",
    "    #        states.append(state)\n",
    "    ### end ###\n",
    "    \n",
    "    # 2.Readout Layer\n",
    "    W = tf.Variable(tf.random_normal([n_hidden, n_classes]))\n",
    "    b = tf.Variable(tf.random_normal([n_classes]))\n",
    "    output = tf.matmul(outputs[-1], W) + b # 这里并没有做softmax，那么在cost函数中，则使用tf.nn.softmax_cross_entropy_with_logits\n",
    "    \n",
    "    return output"
   ]
  },
  {
   "cell_type": "markdown",
   "metadata": {
    "deletable": true,
    "editable": true
   },
   "source": [
    "### 3.4.定义神经网络训练和评估方法"
   ]
  },
  {
   "cell_type": "code",
   "execution_count": 5,
   "metadata": {
    "collapsed": false,
    "deletable": true,
    "editable": true,
    "scrolled": false
   },
   "outputs": [],
   "source": [
    "# train graph\n",
    "predict    = RecNeuralNetwork(X)\n",
    "cost       = tf.reduce_mean(tf.nn.softmax_cross_entropy_with_logits(logits=predict, labels=Y))\n",
    "train_step = tf.train.AdamOptimizer(learning_rate=learning_rate).minimize(cost)\n",
    "\n",
    "# eval graph\n",
    "correct  = tf.equal(tf.argmax(predict, 1), tf.argmax(Y, 1))\n",
    "accuracy = tf.reduce_mean(tf.cast(correct, tf.float32))"
   ]
  },
  {
   "cell_type": "markdown",
   "metadata": {
    "deletable": true,
    "editable": true
   },
   "source": [
    "### 3.5.训练测试"
   ]
  },
  {
   "cell_type": "code",
   "execution_count": 6,
   "metadata": {
    "collapsed": false,
    "deletable": true,
    "editable": true,
    "scrolled": true
   },
   "outputs": [
    {
     "name": "stdout",
     "output_type": "stream",
     "text": [
      "Iter 1280, Minibatch Loss= 1.871495, Training Accuracy= 0.35938\n",
      "Iter 2560, Minibatch Loss= 1.546391, Training Accuracy= 0.52344\n",
      "Iter 3840, Minibatch Loss= 1.225400, Training Accuracy= 0.54688\n",
      "Iter 5120, Minibatch Loss= 1.023603, Training Accuracy= 0.62500\n",
      "Iter 6400, Minibatch Loss= 0.822722, Training Accuracy= 0.71875\n",
      "Iter 7680, Minibatch Loss= 1.103695, Training Accuracy= 0.59375\n",
      "Iter 8960, Minibatch Loss= 0.868721, Training Accuracy= 0.72656\n",
      "Iter 10240, Minibatch Loss= 0.601901, Training Accuracy= 0.82031\n",
      "Iter 11520, Minibatch Loss= 0.398659, Training Accuracy= 0.87500\n",
      "Iter 12800, Minibatch Loss= 0.716563, Training Accuracy= 0.75000\n",
      "Iter 14080, Minibatch Loss= 0.485264, Training Accuracy= 0.84375\n",
      "Iter 15360, Minibatch Loss= 0.366924, Training Accuracy= 0.88281\n",
      "Iter 16640, Minibatch Loss= 0.470318, Training Accuracy= 0.90625\n",
      "Iter 17920, Minibatch Loss= 0.265154, Training Accuracy= 0.89844\n",
      "Iter 19200, Minibatch Loss= 0.264342, Training Accuracy= 0.90625\n",
      "Iter 20480, Minibatch Loss= 0.157558, Training Accuracy= 0.97656\n",
      "Iter 21760, Minibatch Loss= 0.437273, Training Accuracy= 0.82812\n",
      "Iter 23040, Minibatch Loss= 0.148960, Training Accuracy= 0.94531\n",
      "Iter 24320, Minibatch Loss= 0.361180, Training Accuracy= 0.87500\n",
      "Iter 25600, Minibatch Loss= 0.375053, Training Accuracy= 0.85156\n",
      "Iter 26880, Minibatch Loss= 0.265492, Training Accuracy= 0.91406\n",
      "Iter 28160, Minibatch Loss= 0.326717, Training Accuracy= 0.87500\n",
      "Iter 29440, Minibatch Loss= 0.288692, Training Accuracy= 0.89844\n",
      "Iter 30720, Minibatch Loss= 0.294424, Training Accuracy= 0.89062\n",
      "Iter 32000, Minibatch Loss= 0.166546, Training Accuracy= 0.95312\n",
      "Iter 33280, Minibatch Loss= 0.223355, Training Accuracy= 0.92969\n",
      "Iter 34560, Minibatch Loss= 0.221491, Training Accuracy= 0.92188\n",
      "Iter 35840, Minibatch Loss= 0.263996, Training Accuracy= 0.88281\n",
      "Iter 37120, Minibatch Loss= 0.320315, Training Accuracy= 0.89844\n",
      "Iter 38400, Minibatch Loss= 0.097447, Training Accuracy= 0.96875\n",
      "Iter 39680, Minibatch Loss= 0.135253, Training Accuracy= 0.96094\n",
      "Iter 40960, Minibatch Loss= 0.361173, Training Accuracy= 0.87500\n",
      "Iter 42240, Minibatch Loss= 0.119599, Training Accuracy= 0.95312\n",
      "Iter 43520, Minibatch Loss= 0.149734, Training Accuracy= 0.92969\n",
      "Iter 44800, Minibatch Loss= 0.272239, Training Accuracy= 0.88281\n",
      "Iter 46080, Minibatch Loss= 0.187869, Training Accuracy= 0.94531\n",
      "Iter 47360, Minibatch Loss= 0.270842, Training Accuracy= 0.91406\n",
      "Iter 48640, Minibatch Loss= 0.239575, Training Accuracy= 0.92969\n",
      "Iter 49920, Minibatch Loss= 0.216607, Training Accuracy= 0.90625\n",
      "Iter 51200, Minibatch Loss= 0.103249, Training Accuracy= 0.94531\n",
      "Iter 52480, Minibatch Loss= 0.183954, Training Accuracy= 0.94531\n",
      "Iter 53760, Minibatch Loss= 0.040808, Training Accuracy= 0.98438\n",
      "Iter 55040, Minibatch Loss= 0.382377, Training Accuracy= 0.87500\n",
      "Iter 56320, Minibatch Loss= 0.129403, Training Accuracy= 0.95312\n",
      "Iter 57600, Minibatch Loss= 0.068601, Training Accuracy= 0.97656\n",
      "Iter 58880, Minibatch Loss= 0.112904, Training Accuracy= 0.97656\n",
      "Iter 60160, Minibatch Loss= 0.138205, Training Accuracy= 0.93750\n",
      "Iter 61440, Minibatch Loss= 0.175886, Training Accuracy= 0.93750\n",
      "Iter 62720, Minibatch Loss= 0.213288, Training Accuracy= 0.92969\n",
      "Iter 64000, Minibatch Loss= 0.105729, Training Accuracy= 0.95312\n",
      "Iter 65280, Minibatch Loss= 0.232556, Training Accuracy= 0.92188\n",
      "Iter 66560, Minibatch Loss= 0.121749, Training Accuracy= 0.96875\n",
      "Iter 67840, Minibatch Loss= 0.044249, Training Accuracy= 0.99219\n",
      "Iter 69120, Minibatch Loss= 0.154466, Training Accuracy= 0.96094\n",
      "Iter 70400, Minibatch Loss= 0.060570, Training Accuracy= 0.99219\n",
      "Iter 71680, Minibatch Loss= 0.163465, Training Accuracy= 0.96094\n",
      "Iter 72960, Minibatch Loss= 0.152897, Training Accuracy= 0.96094\n",
      "Iter 74240, Minibatch Loss= 0.133265, Training Accuracy= 0.96875\n",
      "Iter 75520, Minibatch Loss= 0.092789, Training Accuracy= 0.94531\n",
      "Iter 76800, Minibatch Loss= 0.205553, Training Accuracy= 0.92188\n",
      "Iter 78080, Minibatch Loss= 0.119952, Training Accuracy= 0.96875\n",
      "Iter 79360, Minibatch Loss= 0.122662, Training Accuracy= 0.96094\n",
      "Iter 80640, Minibatch Loss= 0.186531, Training Accuracy= 0.95312\n",
      "Iter 81920, Minibatch Loss= 0.063520, Training Accuracy= 0.96875\n",
      "Iter 83200, Minibatch Loss= 0.210338, Training Accuracy= 0.95312\n",
      "Iter 84480, Minibatch Loss= 0.120865, Training Accuracy= 0.95312\n",
      "Iter 85760, Minibatch Loss= 0.155369, Training Accuracy= 0.92188\n",
      "Iter 87040, Minibatch Loss= 0.069666, Training Accuracy= 0.96875\n",
      "Iter 88320, Minibatch Loss= 0.106017, Training Accuracy= 0.97656\n",
      "Iter 89600, Minibatch Loss= 0.129938, Training Accuracy= 0.95312\n",
      "Iter 90880, Minibatch Loss= 0.136951, Training Accuracy= 0.96094\n",
      "Iter 92160, Minibatch Loss= 0.094880, Training Accuracy= 0.94531\n",
      "Iter 93440, Minibatch Loss= 0.119807, Training Accuracy= 0.98438\n",
      "Iter 94720, Minibatch Loss= 0.162056, Training Accuracy= 0.95312\n",
      "Iter 96000, Minibatch Loss= 0.122633, Training Accuracy= 0.96094\n",
      "Iter 97280, Minibatch Loss= 0.071712, Training Accuracy= 0.97656\n",
      "Iter 98560, Minibatch Loss= 0.060773, Training Accuracy= 0.98438\n",
      "Iter 99840, Minibatch Loss= 0.059053, Training Accuracy= 0.97656\n",
      "Optimization Finished!\n",
      "Testing Accuracy: 1.0\n"
     ]
    }
   ],
   "source": [
    "init = tf.global_variables_initializer()\n",
    "sess.run(init)\n",
    "step = 1\n",
    "# Keep training until reach max iterations\n",
    "while step * batch_size < training_iters:\n",
    "    batch_x, batch_y = mnist.train.next_batch(batch_size)\n",
    "    # Reshape data to get 28 seq of 28 elements\n",
    "    batch_x = batch_x.reshape((batch_size, n_steps, n_input))\n",
    "    # Run optimization op (backprop)\n",
    "    sess.run(train_step, feed_dict={X: batch_x, Y: batch_y})\n",
    "    if step % display_step == 0:\n",
    "        # Calculate batch accuracy\n",
    "        acc = sess.run(accuracy, feed_dict={X: batch_x, Y: batch_y})\n",
    "        # Calculate batch loss\n",
    "        loss = sess.run(cost, feed_dict={X: batch_x, Y: batch_y})\n",
    "        print \"Iter \" + str(step*batch_size) + \", Minibatch Loss= \" + \\\n",
    "                  \"{:.6f}\".format(loss) + \", Training Accuracy= \" + \\\n",
    "                  \"{:.5f}\".format(acc)\n",
    "    step += 1\n",
    "print \"Optimization Finished!\"\n",
    "\n",
    "# Calculate accuracy for 128 mnist test images\n",
    "test_len = 128\n",
    "test_data = mnist.test.images[:test_len].reshape((-1, n_steps, n_input))\n",
    "test_label = mnist.test.labels[:test_len]\n",
    "print \"Testing Accuracy:\", sess.run(accuracy, feed_dict={X: test_data, Y: test_label})"
   ]
  },
  {
   "cell_type": "code",
   "execution_count": null,
   "metadata": {
    "collapsed": true,
    "deletable": true,
    "editable": true
   },
   "outputs": [],
   "source": []
  }
 ],
 "metadata": {
  "kernelspec": {
   "display_name": "Python 2",
   "language": "python",
   "name": "python2"
  },
  "language_info": {
   "codemirror_mode": {
    "name": "ipython",
    "version": 2
   },
   "file_extension": ".py",
   "mimetype": "text/x-python",
   "name": "python",
   "nbconvert_exporter": "python",
   "pygments_lexer": "ipython2",
   "version": "2.7.12"
  }
 },
 "nbformat": 4,
 "nbformat_minor": 2
}
