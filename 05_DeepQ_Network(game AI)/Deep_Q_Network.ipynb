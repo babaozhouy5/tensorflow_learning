{
 "cells": [
  {
   "cell_type": "markdown",
   "metadata": {
    "deletable": true,
    "editable": true
   },
   "source": [
    "# 使用Deep Q-Network模型构建Game AI"
   ]
  },
  {
   "cell_type": "markdown",
   "metadata": {
    "deletable": true,
    "editable": true
   },
   "source": [
    "#### **注：本章节的代码均不能在远程jupyter中运行，只能在本地运行**"
   ]
  },
  {
   "cell_type": "markdown",
   "metadata": {
    "deletable": true,
    "editable": true
   },
   "source": [
    "## 1.模型示意图"
   ]
  },
  {
   "cell_type": "markdown",
   "metadata": {
    "deletable": true,
    "editable": true
   },
   "source": [
    "### 1.1.Reinforcement Learning Problem"
   ]
  },
  {
   "cell_type": "markdown",
   "metadata": {
    "deletable": true,
    "editable": true
   },
   "source": [
    "![Reinforcement Learning](./Reinforcement_learning&Markov_decision.png \"Reinforcement Learning\")\n",
    "\n",
    "**来源:https://www.nervanasys.com/demystifying-deep-reinforcement-learning/**"
   ]
  },
  {
   "cell_type": "markdown",
   "metadata": {
    "deletable": true,
    "editable": true
   },
   "source": [
    "### 1.2.Deep Q-Network的架构"
   ]
  },
  {
   "cell_type": "markdown",
   "metadata": {
    "deletable": true,
    "editable": true
   },
   "source": [
    "![Deep Q-Network](./NeuralNetwork_ReinforcementLearning.png \"Deep Q-Network\")\n",
    "\n",
    "**注意：两种架构，右边是优化的架构，DeepMind就是采用的右侧架构**"
   ]
  },
  {
   "cell_type": "markdown",
   "metadata": {
    "deletable": true,
    "editable": true
   },
   "source": [
    "### 1.3.Breakout game"
   ]
  },
  {
   "cell_type": "markdown",
   "metadata": {
    "deletable": true,
    "editable": true
   },
   "source": [
    "![Breakout game](./Breakout_game.png \"Breakout game\")"
   ]
  },
  {
   "cell_type": "markdown",
   "metadata": {
    "deletable": true,
    "editable": true
   },
   "source": [
    "### 1.4.DeepMind的Deep Q-Network架构（Breakout game）"
   ]
  },
  {
   "cell_type": "markdown",
   "metadata": {
    "deletable": true,
    "editable": true
   },
   "source": [
    "![DeepMind Deep Q-Network](./DeepMind_DeepQ_Network.png \"DeepMind Deep Q-Network\")\n",
    "\n",
    "**注意：没有MaxPooling层**。pooling利用了图像的某些局部性质的平移不变性（网络对位置不敏感），但是在这里（Breakout game中），游戏中的球和挡板的位置等都是对于游戏走向起关键作用的因素，因此不能做pooling"
   ]
  },
  {
   "cell_type": "markdown",
   "metadata": {
    "deletable": true,
    "editable": true
   },
   "source": [
    "### 1.5.Deep Q-Learning Algorithm"
   ]
  },
  {
   "cell_type": "markdown",
   "metadata": {
    "deletable": true,
    "editable": true
   },
   "source": [
    "![Deep Q-Learning Algorithm](./Deep_Q_Learning_Algorithm.png)"
   ]
  },
  {
   "cell_type": "markdown",
   "metadata": {
    "deletable": true,
    "editable": true
   },
   "source": [
    "## 2.开发简单的乒乓游戏"
   ]
  },
  {
   "cell_type": "code",
   "execution_count": 3,
   "metadata": {
    "collapsed": true,
    "deletable": true,
    "editable": true
   },
   "outputs": [
    {
     "name": "stdout",
     "output_type": "stream",
     "text": [
      "Game Over:  0\n"
     ]
    },
    {
     "ename": "SystemExit",
     "evalue": "",
     "output_type": "error",
     "traceback": [
      "An exception has occurred, use %tb to see the full traceback.\n",
      "\u001b[0;31mSystemExit\u001b[0m\n"
     ]
    },
    {
     "name": "stderr",
     "output_type": "stream",
     "text": [
      "/usr/local/lib/python2.7/dist-packages/IPython/core/interactiveshell.py:2889: UserWarning: To exit: use 'exit', 'quit', or Ctrl-D.\n",
      "  warn(\"To exit: use 'exit', 'quit', or Ctrl-D.\", stacklevel=1)\n"
     ]
    }
   ],
   "source": [
    "import pygame\n",
    "from pygame.locals import *\n",
    "import sys\n",
    "\n",
    "####################\n",
    "# pygame的游戏坐标系 #\n",
    "# 0------>x        #\n",
    "# |                #\n",
    "# |                #\n",
    "# |                #\n",
    "# y                #\n",
    "####################\n",
    "\n",
    "BLACK     = (0  ,0  ,0  )\n",
    "WHITE     = (255,255,255)\n",
    " \n",
    "SCREEN_SIZE = [320,400]\n",
    "BAR_SIZE = [20, 5]\n",
    "BALL_SIZE = [15, 15]\n",
    " \n",
    "class Game(object):\n",
    "    \n",
    "    def __init__(self):\n",
    "        \n",
    "        # 初始化游戏界面\n",
    "        pygame.init()\n",
    "        self.clock = pygame.time.Clock()\n",
    "        self.screen = pygame.display.set_mode(SCREEN_SIZE)\n",
    "        pygame.display.set_caption('Simple Game')\n",
    "        \n",
    "        # 初始分数\n",
    "        self.score = 0\n",
    "        \n",
    "        # ball移动方向\n",
    "        self.ball_dir_x = -1 # -1 = left 1 = right  \n",
    "        self.ball_dir_y = -1 # -1 = up   1 = down\n",
    "        \n",
    "        # 初始化球\n",
    "        self.ball_pos_x = SCREEN_SIZE[0]//2 - BALL_SIZE[0]/2\n",
    "        self.ball_pos_y = SCREEN_SIZE[1]//2 - BALL_SIZE[1]/2\n",
    "        self.ball = pygame.Rect(self.ball_pos_x, self.ball_pos_y, BALL_SIZE[0], BALL_SIZE[1])\n",
    "        \n",
    "        # 初始化挡板\n",
    "        self.bar_pos_x = SCREEN_SIZE[0]//2-BAR_SIZE[0]//2\n",
    "        self.bar = pygame.Rect(self.bar_pos_x, SCREEN_SIZE[1]-BAR_SIZE[1], BAR_SIZE[0], BAR_SIZE[1])\n",
    "    \n",
    "    # 挡板移动函数\n",
    "    def bar_move_left(self):\n",
    "        self.bar_pos_x = self.bar_pos_x - 2\n",
    "        # 边界修复\n",
    "        if self.bar_pos_x < 0:\n",
    "            self.bar_pos_x = 0\n",
    "            \n",
    "    def bar_move_right(self):\n",
    "        self.bar_pos_x = self.bar_pos_x + 2\n",
    "        # 边界修复\n",
    "        if self.bar_pos_x > SCREEN_SIZE[0] - BAR_SIZE[0]:\n",
    "            self.bar_pos_x = SCREEN_SIZE[0] - BAR_SIZE[0]\n",
    "            \n",
    "    # 主事件\n",
    "    def run(self):\n",
    "        pygame.mouse.set_visible(0) # make cursor invisible\n",
    "\n",
    "        bar_move_left = False\n",
    "        bar_move_right = False\n",
    "        \n",
    "        # 事件循环\n",
    "        while True:\n",
    "            for event in pygame.event.get():\n",
    "                if event.type == QUIT:\n",
    "                    pygame.quit()\n",
    "                    sys.exit()\n",
    "                elif event.type == pygame.MOUSEBUTTONDOWN and event.button == 1:  # 鼠标左键按下(左移)\n",
    "                    bar_move_left = True\n",
    "                elif event.type == pygame.MOUSEBUTTONUP and event.button == 1: # 鼠标左键释放\n",
    "                    bar_move_left = False\n",
    "                elif event.type == pygame.MOUSEBUTTONDOWN and event.button == 3: #右键\n",
    "                    bar_move_right = True\n",
    "                elif event.type == pygame.MOUSEBUTTONUP and event.button == 3:\n",
    "                    bar_move_right = False\n",
    "\n",
    "            # 更新挡板位置\n",
    "            if bar_move_left == True and bar_move_right == False:\n",
    "                self.bar_move_left()\n",
    "            if bar_move_left == False and bar_move_right == True:\n",
    "                self.bar_move_right()\n",
    "            \n",
    "            # 刷新游戏中挡板位置\n",
    "            self.screen.fill(BLACK)\n",
    "            self.bar.left = self.bar_pos_x\n",
    "            pygame.draw.rect(self.screen, WHITE, self.bar)\n",
    "            \n",
    "            # 刷新游戏中球的位置\n",
    "            self.ball.left += self.ball_dir_x * 2\n",
    "            self.ball.bottom += self.ball_dir_y * 3\n",
    "            pygame.draw.rect(self.screen, WHITE, self.ball)\n",
    "            \n",
    "            # 球边缘碰撞检测及移动方向调整\n",
    "            if self.ball.top <= 0 or self.ball.bottom >= (SCREEN_SIZE[1] - BAR_SIZE[1]+1):\n",
    "                self.ball_dir_y = self.ball_dir_y * -1\n",
    "            if self.ball.left <= 0 or self.ball.right >= (SCREEN_SIZE[0]):\n",
    "                self.ball_dir_x = self.ball_dir_x * -1\n",
    "\n",
    "            # 挡板与球的碰撞检测\n",
    "            if self.bar.top <= self.ball.bottom and (self.bar.left < self.ball.right and self.bar.right > self.ball.left):\n",
    "                self.score += 1\n",
    "                print \"Score: \", self.score\n",
    "            elif self.bar.top <= self.ball.bottom and (self.bar.left > self.ball.right or self.bar.right < self.ball.left):\n",
    "                print\"Game Over: \", self.score\n",
    "                # sys.exit()\n",
    "                return self.score\n",
    "\n",
    "            pygame.display.update()\n",
    "            self.clock.tick(60)\n",
    "\n",
    "game = Game()\n",
    "game.run()"
   ]
  },
  {
   "cell_type": "markdown",
   "metadata": {
    "deletable": true,
    "editable": true
   },
   "source": [
    "## 3.基于Deep Q-Network构建的Game AI"
   ]
  },
  {
   "cell_type": "markdown",
   "metadata": {
    "collapsed": true,
    "deletable": true,
    "editable": true
   },
   "source": [
    "### 3.1.首先需要对原游戏做改动"
   ]
  },
  {
   "cell_type": "code",
   "execution_count": 1,
   "metadata": {
    "collapsed": false,
    "deletable": true,
    "editable": true
   },
   "outputs": [],
   "source": [
    "import pygame\n",
    "from pygame.locals import *\n",
    "\n",
    "# import sys\n",
    "import numpy as np\n",
    "import PIL.Image as im\n",
    "import PIL.ImageOps as imop\n",
    "\n",
    "####################\n",
    "# pygame的游戏坐标系 #\n",
    "# 0------>x        #\n",
    "# |                #\n",
    "# |                #\n",
    "# |                #\n",
    "# y                #\n",
    "####################\n",
    "\n",
    "BLACK = (0  ,0  ,0  )\n",
    "WHITE = (255,255,255)\n",
    " \n",
    "SCREEN_SIZE = [320,400]\n",
    "BAR_SIZE    = [20,   5]\n",
    "BALL_SIZE   = [15,  15]\n",
    " \n",
    "MOVE_LEFT  = [1, 0, 0]\n",
    "MOVE_STAY  = [0, 1, 0]\n",
    "MOVE_RIGHT = [0, 0, 1]\n",
    "\n",
    "# 转换为灰度值\n",
    "def convert2gray(arr3d):\n",
    "    \n",
    "    image = im.fromarray(arr3d, 'RGB')\n",
    "    image = image.resize((100, 80))\n",
    "    image = imop.grayscale(image)\n",
    "    \n",
    "    return np.asarray(image)\n",
    "    \n",
    "class Game(object):\n",
    "    \n",
    "    def __init__(self):\n",
    "        \n",
    "        # 初始化游戏界面\n",
    "        pygame.init()\n",
    "        self.clock = pygame.time.Clock()\n",
    "        self.screen = pygame.display.set_mode(SCREEN_SIZE)\n",
    "        pygame.display.set_caption('Simple Game')\n",
    "        \n",
    "        # 初始分数\n",
    "        self.score = 0\n",
    "        \n",
    "        # ball移动方向\n",
    "        self.ball_dir_x = -1 # -1 = left 1 = right  \n",
    "        self.ball_dir_y = -1 # -1 = up   1 = down\n",
    "        \n",
    "        # 初始化球\n",
    "        self.ball_pos_x = SCREEN_SIZE[0]//2 - BALL_SIZE[0]/2\n",
    "        self.ball_pos_y = SCREEN_SIZE[1]//2 - BALL_SIZE[1]/2\n",
    "        self.ball = pygame.Rect(self.ball_pos_x, self.ball_pos_y, BALL_SIZE[0], BALL_SIZE[1])\n",
    "        \n",
    "        # 初始化挡板\n",
    "        self.bar_pos_x = SCREEN_SIZE[0]//2-BAR_SIZE[0]//2\n",
    "        self.bar = pygame.Rect(self.bar_pos_x, SCREEN_SIZE[1]-BAR_SIZE[1], BAR_SIZE[0], BAR_SIZE[1])\n",
    "    \n",
    "    # 挡板移动函数\n",
    "    def bar_move_left(self):\n",
    "        self.bar_pos_x = self.bar_pos_x - 2\n",
    "        # 边界修复\n",
    "        if self.bar_pos_x < 0:\n",
    "            self.bar_pos_x = 0\n",
    "       \n",
    "    def bar_move_right(self):\n",
    "        self.bar_pos_x = self.bar_pos_x + 2\n",
    "        # 边界修复\n",
    "        if self.bar_pos_x > SCREEN_SIZE[0] - BAR_SIZE[0]:\n",
    "            self.bar_pos_x = SCREEN_SIZE[0] - BAR_SIZE[0]\n",
    "            \n",
    "    # 主事件\n",
    "    def one_step(self, action):\n",
    "        \n",
    "        # 更新挡板位置\n",
    "        if action == MOVE_LEFT:\n",
    "            self.bar_move_left()\n",
    "        elif action == MOVE_RIGHT:\n",
    "            self.bar_move_right()\n",
    "        \n",
    "            \n",
    "        # 刷新游戏中挡板位置\n",
    "        self.screen.fill(BLACK)\n",
    "        self.bar.left = self.bar_pos_x\n",
    "        pygame.draw.rect(self.screen, WHITE, self.bar)\n",
    "\n",
    "        # 刷新游戏中球的位置\n",
    "        self.ball.left += self.ball_dir_x * 2\n",
    "        self.ball.bottom += self.ball_dir_y * 3\n",
    "        pygame.draw.rect(self.screen, WHITE, self.ball)\n",
    "\n",
    "        # 球边缘碰撞检测及移动方向调整\n",
    "        if self.ball.top <= 0 or self.ball.bottom >= (SCREEN_SIZE[1] - BAR_SIZE[1]+1):\n",
    "            self.ball_dir_y = self.ball_dir_y * -1\n",
    "        if self.ball.left <= 0 or self.ball.right >= (SCREEN_SIZE[0]):\n",
    "            self.ball_dir_x = self.ball_dir_x * -1\n",
    "        \n",
    "        # 采取动作a_t(在s_t)后获得地奖励r_(t+1)\n",
    "        reward = 0\n",
    "        # 挡板与球的碰撞检测\n",
    "        if self.bar.top <= self.ball.bottom and (self.bar.left < self.ball.right and self.bar.right > self.ball.left):\n",
    "            reward = 1  # AI击中球的奖励\n",
    "        elif self.bar.top <= self.ball.bottom and (self.bar.left > self.ball.right or self.bar.right < self.ball.left):\n",
    "            reward = -1 # AI没有击中球的惩罚\n",
    "        \n",
    "        # 注意：这句必须放在update()之前，对应的是当前的动作a_t和状态s_t\n",
    "        screen_pixel = pygame.surfarray.array3d(pygame.display.get_surface())\n",
    "        screen_image = convert2gray(screen_pixel)\n",
    "        pygame.display.update()\n",
    "        self.clock.tick(60)\n",
    "        \n",
    "        return reward, screen_image"
   ]
  },
  {
   "cell_type": "markdown",
   "metadata": {
    "deletable": true,
    "editable": true
   },
   "source": [
    "### 3.2.构建Deep Q-Network模型"
   ]
  },
  {
   "cell_type": "markdown",
   "metadata": {
    "deletable": true,
    "editable": true
   },
   "source": [
    "#### 3.2.1.引入依赖包"
   ]
  },
  {
   "cell_type": "code",
   "execution_count": 2,
   "metadata": {
    "collapsed": false,
    "deletable": true,
    "editable": true
   },
   "outputs": [],
   "source": [
    "from collections import deque\n",
    "import tensorflow as tf\n",
    "import random\n",
    "\n",
    "sess = tf.InteractiveSession()"
   ]
  },
  {
   "cell_type": "markdown",
   "metadata": {
    "collapsed": true,
    "deletable": true,
    "editable": true
   },
   "source": [
    "#### 3.2.2.定义网络参数"
   ]
  },
  {
   "cell_type": "code",
   "execution_count": 3,
   "metadata": {
    "collapsed": false,
    "deletable": true,
    "editable": true
   },
   "outputs": [],
   "source": [
    "width, height = 80, 100\n",
    "num_actions   = 3\n",
    "\n",
    "X = tf.placeholder(tf.float32, [None, width, height, 4])\n",
    "Y = tf.placeholder(tf.float32, [None, num_actions])\n",
    "\n",
    "# 测试观测次数\n",
    "EXPLORE = 500000\n",
    "OBSERVE = 50000\n",
    "# 存储过往经验大小\n",
    "REPLAY_MEMORY = 500000\n",
    "\n",
    "initial_epsilon = 1.0\n",
    "final_epsilon   = 0.01\n",
    "\n",
    "batch_size = 100\n",
    "learning_rate = 0.9\n",
    "\n",
    "# [(size, size, in_channel, output_channel)]\n",
    "filter_shapes = [(6, 6, 4, 32), (4, 4, 32, 64), (3, 3, 64, 64)]\n",
    "stride_shapes = [(1, 2, 2, 1), (1, 2, 2, 1), (1, 1, 1, 1)]"
   ]
  },
  {
   "cell_type": "markdown",
   "metadata": {
    "deletable": true,
    "editable": true
   },
   "source": [
    "#### 3.2.3.定义Deep Q-Network模型"
   ]
  },
  {
   "cell_type": "code",
   "execution_count": 4,
   "metadata": {
    "collapsed": true,
    "deletable": true,
    "editable": true
   },
   "outputs": [],
   "source": [
    "def weight_variable(shape):\n",
    "    return tf.Variable(tf.zeros(shape))\n",
    "\n",
    "def bias_variable(shape):\n",
    "    return tf.Variable(tf.zeros(shape))\n",
    "\n",
    "def conv2d(x, W, bias, strides):\n",
    "    conv = tf.nn.conv2d(x, W, strides=strides, padding='VALID')\n",
    "    return tf.nn.relu(conv + bias)\n",
    "\n",
    "def DeepQNetwork(x):\n",
    "    \n",
    "    # 1.convolution layer\n",
    "    # conv_layer = tf.reshape(-1, width, height, 4)\n",
    "    conv_layer = x\n",
    "    for idx, filter_shape in enumerate(filter_shapes):\n",
    "        with tf.name_scope('conv_%d' % idx):\n",
    "            W = weight_variable(filter_shape)\n",
    "            b = bias_variable(filter_shape[-1])\n",
    "            conv_layer = conv2d(conv_layer, W, b, stride_shapes[idx])\n",
    "    \n",
    "    # 2.fully-connected layer\n",
    "    W_fc1 = weight_variable([6*10*64, 512])\n",
    "    b_fc1 = bias_variable([512])\n",
    "    conv_flat = tf.reshape(conv_layer, [-1, 6*10*64])\n",
    "    fc1_output = tf.nn.relu(tf.matmul(conv_flat, W_fc1) + b_fc1)\n",
    "    \n",
    "    # 3.readout layer\n",
    "    W_fc2 = weight_variable([512, 3])\n",
    "    b_fc2 = bias_variable([3])\n",
    "    output = tf.matmul(fc1_output, W_fc2) + b_fc2\n",
    "    \n",
    "    return output"
   ]
  },
  {
   "cell_type": "markdown",
   "metadata": {
    "deletable": true,
    "editable": true
   },
   "source": [
    "#### 3.2.4.训练网络"
   ]
  },
  {
   "cell_type": "code",
   "execution_count": 5,
   "metadata": {
    "collapsed": false,
    "deletable": true,
    "editable": true,
    "scrolled": false
   },
   "outputs": [
    {
     "ename": "ValueError",
     "evalue": "not enough image data",
     "output_type": "error",
     "traceback": [
      "\u001b[0;31m\u001b[0m",
      "\u001b[0;31mValueError\u001b[0mTraceback (most recent call last)",
      "\u001b[0;32m<ipython-input-5-d7aea48d4a53>\u001b[0m in \u001b[0;36m<module>\u001b[0;34m()\u001b[0m\n\u001b[1;32m     76\u001b[0m \u001b[0;34m\u001b[0m\u001b[0m\n\u001b[1;32m     77\u001b[0m \u001b[0;34m\u001b[0m\u001b[0m\n\u001b[0;32m---> 78\u001b[0;31m \u001b[0mtrain_neural_network\u001b[0m\u001b[0;34m(\u001b[0m\u001b[0mX\u001b[0m\u001b[0;34m)\u001b[0m\u001b[0;34m\u001b[0m\u001b[0m\n\u001b[0m\u001b[1;32m     79\u001b[0m \u001b[0;34m\u001b[0m\u001b[0m\n",
      "\u001b[0;32m<ipython-input-5-d7aea48d4a53>\u001b[0m in \u001b[0;36mtrain_neural_network\u001b[0;34m(x)\u001b[0m\n\u001b[1;32m     15\u001b[0m \u001b[0;34m\u001b[0m\u001b[0m\n\u001b[1;32m     16\u001b[0m     \u001b[0;31m# 转换为灰度值\u001b[0m\u001b[0;34m\u001b[0m\u001b[0;34m\u001b[0m\u001b[0m\n\u001b[0;32m---> 17\u001b[0;31m     \u001b[0mimage\u001b[0m \u001b[0;34m=\u001b[0m \u001b[0mconvert2gray\u001b[0m\u001b[0;34m(\u001b[0m\u001b[0mimage\u001b[0m\u001b[0;34m)\u001b[0m\u001b[0;34m\u001b[0m\u001b[0m\n\u001b[0m\u001b[1;32m     18\u001b[0m     \u001b[0minput_image_data\u001b[0m \u001b[0;34m=\u001b[0m \u001b[0mnp\u001b[0m\u001b[0;34m.\u001b[0m\u001b[0mstack\u001b[0m\u001b[0;34m(\u001b[0m\u001b[0;34m(\u001b[0m\u001b[0mimage\u001b[0m\u001b[0;34m,\u001b[0m \u001b[0mimage\u001b[0m\u001b[0;34m,\u001b[0m \u001b[0mimage\u001b[0m\u001b[0;34m,\u001b[0m \u001b[0mimage\u001b[0m\u001b[0;34m)\u001b[0m\u001b[0;34m,\u001b[0m \u001b[0maxis\u001b[0m \u001b[0;34m=\u001b[0m \u001b[0;36m2\u001b[0m\u001b[0;34m)\u001b[0m\u001b[0;34m\u001b[0m\u001b[0m\n\u001b[1;32m     19\u001b[0m \u001b[0;34m\u001b[0m\u001b[0m\n",
      "\u001b[0;32m<ipython-input-1-65f82c6fac97>\u001b[0m in \u001b[0;36mconvert2gray\u001b[0;34m(arr3d)\u001b[0m\n\u001b[1;32m     29\u001b[0m \u001b[0;32mdef\u001b[0m \u001b[0mconvert2gray\u001b[0m\u001b[0;34m(\u001b[0m\u001b[0marr3d\u001b[0m\u001b[0;34m)\u001b[0m\u001b[0;34m:\u001b[0m\u001b[0;34m\u001b[0m\u001b[0m\n\u001b[1;32m     30\u001b[0m \u001b[0;34m\u001b[0m\u001b[0m\n\u001b[0;32m---> 31\u001b[0;31m     \u001b[0mimage\u001b[0m \u001b[0;34m=\u001b[0m \u001b[0mim\u001b[0m\u001b[0;34m.\u001b[0m\u001b[0mfromarray\u001b[0m\u001b[0;34m(\u001b[0m\u001b[0marr3d\u001b[0m\u001b[0;34m,\u001b[0m \u001b[0;34m'RGB'\u001b[0m\u001b[0;34m)\u001b[0m\u001b[0;34m\u001b[0m\u001b[0m\n\u001b[0m\u001b[1;32m     32\u001b[0m     \u001b[0mimage\u001b[0m \u001b[0;34m=\u001b[0m \u001b[0mimage\u001b[0m\u001b[0;34m.\u001b[0m\u001b[0mresize\u001b[0m\u001b[0;34m(\u001b[0m\u001b[0;34m(\u001b[0m\u001b[0;36m100\u001b[0m\u001b[0;34m,\u001b[0m \u001b[0;36m80\u001b[0m\u001b[0;34m)\u001b[0m\u001b[0;34m)\u001b[0m\u001b[0;34m\u001b[0m\u001b[0m\n\u001b[1;32m     33\u001b[0m     \u001b[0mimage\u001b[0m \u001b[0;34m=\u001b[0m \u001b[0mimop\u001b[0m\u001b[0;34m.\u001b[0m\u001b[0mgrayscale\u001b[0m\u001b[0;34m(\u001b[0m\u001b[0mimage\u001b[0m\u001b[0;34m)\u001b[0m\u001b[0;34m\u001b[0m\u001b[0m\n",
      "\u001b[0;32m/usr/lib/python2.7/dist-packages/PIL/Image.pyc\u001b[0m in \u001b[0;36mfromarray\u001b[0;34m(obj, mode)\u001b[0m\n\u001b[1;32m   2170\u001b[0m             \u001b[0mobj\u001b[0m \u001b[0;34m=\u001b[0m \u001b[0mobj\u001b[0m\u001b[0;34m.\u001b[0m\u001b[0mtostring\u001b[0m\u001b[0;34m(\u001b[0m\u001b[0;34m)\u001b[0m\u001b[0;34m\u001b[0m\u001b[0m\n\u001b[1;32m   2171\u001b[0m \u001b[0;34m\u001b[0m\u001b[0m\n\u001b[0;32m-> 2172\u001b[0;31m     \u001b[0;32mreturn\u001b[0m \u001b[0mfrombuffer\u001b[0m\u001b[0;34m(\u001b[0m\u001b[0mmode\u001b[0m\u001b[0;34m,\u001b[0m \u001b[0msize\u001b[0m\u001b[0;34m,\u001b[0m \u001b[0mobj\u001b[0m\u001b[0;34m,\u001b[0m \u001b[0;34m\"raw\"\u001b[0m\u001b[0;34m,\u001b[0m \u001b[0mrawmode\u001b[0m\u001b[0;34m,\u001b[0m \u001b[0;36m0\u001b[0m\u001b[0;34m,\u001b[0m \u001b[0;36m1\u001b[0m\u001b[0;34m)\u001b[0m\u001b[0;34m\u001b[0m\u001b[0m\n\u001b[0m\u001b[1;32m   2173\u001b[0m \u001b[0;34m\u001b[0m\u001b[0m\n\u001b[1;32m   2174\u001b[0m \u001b[0;34m\u001b[0m\u001b[0m\n",
      "\u001b[0;32m/usr/lib/python2.7/dist-packages/PIL/Image.pyc\u001b[0m in \u001b[0;36mfrombuffer\u001b[0;34m(mode, size, data, decoder_name, *args)\u001b[0m\n\u001b[1;32m   2120\u001b[0m             \u001b[0;32mreturn\u001b[0m \u001b[0mim\u001b[0m\u001b[0;34m\u001b[0m\u001b[0m\n\u001b[1;32m   2121\u001b[0m \u001b[0;34m\u001b[0m\u001b[0m\n\u001b[0;32m-> 2122\u001b[0;31m     \u001b[0;32mreturn\u001b[0m \u001b[0mfrombytes\u001b[0m\u001b[0;34m(\u001b[0m\u001b[0mmode\u001b[0m\u001b[0;34m,\u001b[0m \u001b[0msize\u001b[0m\u001b[0;34m,\u001b[0m \u001b[0mdata\u001b[0m\u001b[0;34m,\u001b[0m \u001b[0mdecoder_name\u001b[0m\u001b[0;34m,\u001b[0m \u001b[0margs\u001b[0m\u001b[0;34m)\u001b[0m\u001b[0;34m\u001b[0m\u001b[0m\n\u001b[0m\u001b[1;32m   2123\u001b[0m \u001b[0;34m\u001b[0m\u001b[0m\n\u001b[1;32m   2124\u001b[0m \u001b[0;34m\u001b[0m\u001b[0m\n",
      "\u001b[0;32m/usr/lib/python2.7/dist-packages/PIL/Image.pyc\u001b[0m in \u001b[0;36mfrombytes\u001b[0;34m(mode, size, data, decoder_name, *args)\u001b[0m\n\u001b[1;32m   2055\u001b[0m \u001b[0;34m\u001b[0m\u001b[0m\n\u001b[1;32m   2056\u001b[0m     \u001b[0mim\u001b[0m \u001b[0;34m=\u001b[0m \u001b[0mnew\u001b[0m\u001b[0;34m(\u001b[0m\u001b[0mmode\u001b[0m\u001b[0;34m,\u001b[0m \u001b[0msize\u001b[0m\u001b[0;34m)\u001b[0m\u001b[0;34m\u001b[0m\u001b[0m\n\u001b[0;32m-> 2057\u001b[0;31m     \u001b[0mim\u001b[0m\u001b[0;34m.\u001b[0m\u001b[0mfrombytes\u001b[0m\u001b[0;34m(\u001b[0m\u001b[0mdata\u001b[0m\u001b[0;34m,\u001b[0m \u001b[0mdecoder_name\u001b[0m\u001b[0;34m,\u001b[0m \u001b[0margs\u001b[0m\u001b[0;34m)\u001b[0m\u001b[0;34m\u001b[0m\u001b[0m\n\u001b[0m\u001b[1;32m   2058\u001b[0m     \u001b[0;32mreturn\u001b[0m \u001b[0mim\u001b[0m\u001b[0;34m\u001b[0m\u001b[0m\n\u001b[1;32m   2059\u001b[0m \u001b[0;34m\u001b[0m\u001b[0m\n",
      "\u001b[0;32m/usr/lib/python2.7/dist-packages/PIL/Image.pyc\u001b[0m in \u001b[0;36mfrombytes\u001b[0;34m(self, data, decoder_name, *args)\u001b[0m\n\u001b[1;32m    738\u001b[0m \u001b[0;34m\u001b[0m\u001b[0m\n\u001b[1;32m    739\u001b[0m         \u001b[0;32mif\u001b[0m \u001b[0ms\u001b[0m\u001b[0;34m[\u001b[0m\u001b[0;36m0\u001b[0m\u001b[0;34m]\u001b[0m \u001b[0;34m>=\u001b[0m \u001b[0;36m0\u001b[0m\u001b[0;34m:\u001b[0m\u001b[0;34m\u001b[0m\u001b[0m\n\u001b[0;32m--> 740\u001b[0;31m             \u001b[0;32mraise\u001b[0m \u001b[0mValueError\u001b[0m\u001b[0;34m(\u001b[0m\u001b[0;34m\"not enough image data\"\u001b[0m\u001b[0;34m)\u001b[0m\u001b[0;34m\u001b[0m\u001b[0m\n\u001b[0m\u001b[1;32m    741\u001b[0m         \u001b[0;32mif\u001b[0m \u001b[0ms\u001b[0m\u001b[0;34m[\u001b[0m\u001b[0;36m1\u001b[0m\u001b[0;34m]\u001b[0m \u001b[0;34m!=\u001b[0m \u001b[0;36m0\u001b[0m\u001b[0;34m:\u001b[0m\u001b[0;34m\u001b[0m\u001b[0m\n\u001b[1;32m    742\u001b[0m             \u001b[0;32mraise\u001b[0m \u001b[0mValueError\u001b[0m\u001b[0;34m(\u001b[0m\u001b[0;34m\"cannot decode image data\"\u001b[0m\u001b[0;34m)\u001b[0m\u001b[0;34m\u001b[0m\u001b[0m\n",
      "\u001b[0;31mValueError\u001b[0m: not enough image data"
     ]
    }
   ],
   "source": [
    "def train_neural_network(x):\n",
    "    pred_Q_values = DeepQNetwork(x) # give state x, and output Q-values for the three actions\n",
    "\n",
    "    action_batch_ = tf.placeholder(\"float\", [None, num_actions])\n",
    "    bellman_batch_ = tf.placeholder(\"float\", [None])\n",
    "\n",
    "    # 定义loss\n",
    "    action = tf.reduce_sum(tf.multiply(pred_Q_values, argmax), reduction_indices = 1)\n",
    "    cost = tf.reduce_mean(tf.square(action - gt))\n",
    "    optimizer = tf.train.AdamOptimizer(1e-6).minimize(cost)\n",
    "\n",
    "    sess.run(tf.global_variables_initializer())\n",
    "    saver = tf.train.Saver()\n",
    "    \n",
    "    # game initial\n",
    "    game = Game()\n",
    "    \n",
    "    # initial replay memory `D`\n",
    "    D = deque()\n",
    "    \n",
    "    # observe initial state `s`<consist by last four continious images>\n",
    "    _, image = game.one_step(MOVE_STAY)\n",
    "    image = convert2gray(image)\n",
    "    input_image_data = np.stack((image, image, image, image), axis = 2)\n",
    "\n",
    "    n = 0\n",
    "    epsilon = initial_epsilon\n",
    "    while True:\n",
    "        \n",
    "        # select an action `a`\n",
    "        if(random.random() <= initial_epsilon):\n",
    "            maxAction_Index = random.randrange(output)\n",
    "        else:\n",
    "            Q_values = pred_Q_values.eval(feed_dict = {input_image : [input_image_data]})[0]\n",
    "            maxAction_Index = np.argmax(Q_values)\n",
    "\n",
    "        # carry out action `a`\n",
    "        action = [0, 0, 0]\n",
    "        action[maxAction_Index] = 1\n",
    "        \n",
    "        # decay of the epsilon\n",
    "        if epsilon > final_epsilon:\n",
    "            epsilon -= (initial_epsilon - final_epsilon) / EXPLORE\n",
    "        \n",
    "        # observe reward `r` and new state `s'`<consist by last four continious image>\n",
    "        reward, image = game.one_step(action)\n",
    "        image = np.reshape(image, (80, 100, 1))\n",
    "        input_image_data1 = np.append(image, input_image_data[:, :, 0:3], axis = 2)\n",
    "\n",
    "        # store experience <s, a, r, s'>\n",
    "        D.append((input_image_data, action, reward, input_image_data1))\n",
    "\n",
    "        if len(D) > REPLAY_MEMORY:\n",
    "            D.popleft()\n",
    "\n",
    "        if n > OBSERVE:\n",
    "            # sample random transitions <ss, aa, rr, ss'> from replay memory\n",
    "            minibatch = random.sample(D, batch_size)\n",
    "            input_image_data_batch = [d[0] for d in minibatch]\n",
    "            action_batch = [d[1] for d in minibatch]\n",
    "            reward_batch = [d[2] for d in minibatch]\n",
    "            input_image_data1_batch = [d[3] for d in minibatch]\n",
    "\n",
    "            gt_batch = []\n",
    "\n",
    "            Q_values_batch = predict_action.eval(feed_dict = {X : input_image_data1_batch})\n",
    "            \n",
    "            # calculate target for each minibatch transition\n",
    "            for i in range(0, len(minibatch)):\n",
    "                bellman_batch_.append(reward_batch[i] + learning_rate * np.max(Q_values_batch[i]))\n",
    "            \n",
    "            # train Q-Network using loss\n",
    "            optimizer.run(feed_dict={bellman_batch_: bellman_batch, action_batch_: action_batch, X: input_image_data_batch})\n",
    "\n",
    "        input_image_data = input_image_data1\n",
    "        \n",
    "        n = n+1\n",
    "        if n % 10000 == 0:\n",
    "            saver.save(sess, 'game.cpk', global_step = n)  # 保存模型\n",
    "\n",
    "        print n, \"--\" ,\"epsilon:\", epsilon, \"--\" ,\"action:\", maxIndex, \"--\" ,\"reward:\", reward)\n",
    "\n",
    "train_neural_network(X)\n",
    "    "
   ]
  },
  {
   "cell_type": "code",
   "execution_count": null,
   "metadata": {
    "collapsed": true,
    "deletable": true,
    "editable": true
   },
   "outputs": [],
   "source": []
  }
 ],
 "metadata": {
  "kernelspec": {
   "display_name": "Python 2",
   "language": "python",
   "name": "python2"
  },
  "language_info": {
   "codemirror_mode": {
    "name": "ipython",
    "version": 2
   },
   "file_extension": ".py",
   "mimetype": "text/x-python",
   "name": "python",
   "nbconvert_exporter": "python",
   "pygments_lexer": "ipython2",
   "version": "2.7.12"
  }
 },
 "nbformat": 4,
 "nbformat_minor": 2
}
